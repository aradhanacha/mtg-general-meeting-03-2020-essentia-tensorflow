{
 "cells": [
  {
   "cell_type": "markdown",
   "metadata": {},
   "source": [
    "# Real-time Auto-tagging inference with essentia-tensorflow and souncard"
   ]
  },
  {
   "cell_type": "code",
   "execution_count": null,
   "metadata": {},
   "outputs": [],
   "source": [
    "%matplotlib nbagg\n",
    "\n",
    "import numpy as np\n",
    "import matplotlib.pyplot as plt\n",
    "import soundcard as sc\n",
    "\n",
    "from struct import unpack\n",
    "from IPython import display\n",
    "\n",
    "from essentia.streaming import *\n",
    "from essentia import Pool, run, array, reset"
   ]
  },
  {
   "cell_type": "code",
   "execution_count": null,
   "metadata": {},
   "outputs": [],
   "source": [
    "# model parameters\n",
    "modelName = 'msd-musicnn.pb'\n",
    "input_layer = 'model/Placeholder'\n",
    "output_layer = 'model/Sigmoid'\n",
    "msd_labels = ['rock','pop','alternative','indie','electronic','female vocalists','dance','00s','alternative rock','jazz','beautiful','metal','chillout','male vocalists','classic rock','soul','indie rock','Mellow','electronica','80s','folk','90s','chill','instrumental','punk','oldies','blues','hard rock','ambient','acoustic','experimental','female vocalist','guitar','Hip-Hop','70s','party','country','easy listening','sexy','catchy','funk','electro','heavy metal','Progressive rock','60s','rnb','indie pop','sad','House','happy']\n",
    "\n",
    "# analysis parameters\n",
    "sampleRate = 16000\n",
    "\n",
    "frameSize=512 \n",
    "hopSize=256\n",
    "patchSize = 64\n",
    "numberBands=96\n",
    "\n",
    "chuncksize = 2**14 + frameSize\n",
    "channels = 1"
   ]
  },
  {
   "cell_type": "markdown",
   "metadata": {},
   "source": [
    "##  Instantiate and connect the algorithms "
   ]
  },
  {
   "cell_type": "code",
   "execution_count": null,
   "metadata": {},
   "outputs": [],
   "source": [
    "fc = FrameCutter(frameSize=frameSize, hopSize=hopSize, \n",
    "                 startFromZero=True,\n",
    "                 lastFrameToEndOfFile=False)\n",
    "\n",
    "tim = TensorflowInputMusiCNN()\n",
    "\n",
    "vtt = VectorRealToTensor(shape=[1, 1, patchSize, numberBands], lastPatchMode='discard')\n",
    "\n",
    "ttp = TensorToPool(namespace=input_layer)\n",
    "\n",
    "tfp = TensorflowPredict(graphFilename=modelName,\n",
    "                        inputs=[input_layer],\n",
    "                        outputs=[output_layer],\n",
    "                        isTrainingName=\"model/Placeholder_1\")\n",
    "\n",
    "ptt = PoolToTensor(namespace=output_layer)\n",
    "\n",
    "ttv = TensorToVectorReal()\n",
    "\n",
    "pool = Pool()"
   ]
  },
  {
   "cell_type": "code",
   "execution_count": null,
   "metadata": {
    "scrolled": true
   },
   "outputs": [],
   "source": [
    "fc.frame       >>  tim.frame\n",
    "tim.bands      >>  vtt.frame\n",
    "tim.bands      >>  (pool, \"melbands\")\n",
    "vtt.tensor     >>  ttp.tensor\n",
    "ttp.pool       >>  tfp.poolIn\n",
    "tfp.poolOut    >>  ptt.pool\n",
    "ptt.tensor     >>  ttv.tensor\n",
    "ttv.frame      >>  (pool, output_layer)"
   ]
  },
  {
   "cell_type": "markdown",
   "metadata": {},
   "source": [
    "## Callback to update the plots"
   ]
  },
  {
   "cell_type": "code",
   "execution_count": null,
   "metadata": {},
   "outputs": [],
   "source": [
    "def callback(in_data, frame_count, time_info, status):\n",
    "    buffer = array(unpack('f' * (channels * chuncksize), in_data))\n",
    "    \n",
    "    if channels == 2:\n",
    "        buffer = np.mean([buffer[::2], buffer[1::2]], axis=0)\n",
    "\n",
    "    vimp = VectorInput(buffer)\n",
    "    vimp.data >> fc.signal\n",
    "    run(vimp)\n",
    "\n",
    "    if pool.containsKey('melbands'):\n",
    "        if  pool['melbands'].shape[0] > tokens['mel']:\n",
    "            tokens['mel'] = pool['melbands'].shape[0]\n",
    "            \n",
    "            if pool['melbands'].shape[0] > patchSize:\n",
    "                data_mel = pool['melbands'][-patchSize:,:].T\n",
    "            else:\n",
    "                data_mel = np.zeros([numberBands, patchSize])\n",
    "                data_mel[:, -pool['melbands'].shape[0]:] = pool['melbands'].T\n",
    "\n",
    "            img_mel.set_data(data_mel)\n",
    "            img_mel.autoscale()\n",
    "        \n",
    "    if pool.containsKey('model/Sigmoid'):\n",
    "        if  pool['model/Sigmoid'].shape[0] > tokens['activations']:\n",
    "            tokens['activations'] = pool['model/Sigmoid'].shape[0]\n",
    "            \n",
    "            if pool['model/Sigmoid'].shape[0] > 20:\n",
    "                data_acts = pool['model/Sigmoid'][-20:,:].T\n",
    "            else:\n",
    "                data_acts = np.zeros([50, 20])\n",
    "                data_acts[:, -pool['model/Sigmoid'].shape[0]:] = pool['model/Sigmoid'].T\n",
    "\n",
    "            img_act.set_data(data_acts)\n",
    "\n",
    "    f.canvas.draw()\n",
    "    f.canvas.flush_events()\n",
    "\n",
    "    reset(vimp)\n",
    "    vimp.data.disconnect(fc.signal)"
   ]
  },
  {
   "cell_type": "markdown",
   "metadata": {},
   "source": [
    "## Prcess from a file"
   ]
  },
  {
   "cell_type": "code",
   "execution_count": null,
   "metadata": {
    "scrolled": false
   },
   "outputs": [],
   "source": [
    "# initialize plots\n",
    "f, ax = plt.subplots(1, 2, figsize=[9.6, 7])\n",
    "f.canvas.draw()\n",
    "\n",
    "ax[0].set_title('Mel Bands')\n",
    "img_mel = ax[0].imshow(np.zeros([numberBands, patchSize]),\n",
    "                       aspect='auto', origin='lower')\n",
    "\n",
    "ax[1].set_title('Activations')\n",
    "img_act = ax[1].matshow(np.zeros([50, 20]), aspect='0.7', vmin=0, vmax=1)\n",
    "ax[1].xaxis.set_ticks_position('bottom')\n",
    "ax[1].yaxis.set_ticks_position('right')\n",
    "_ = plt.yticks(np.arange(50), msd_labels, fontsize=6)\n",
    "\n",
    "# reset storage and counter\n",
    "pool.clear()\n",
    "tokens = {'mel': 0, 'activations': 0}\n",
    "\n",
    "with sc.all_microphones(include_loopback=True)[0].recorder(samplerate=16000) as mic:\n",
    "    while True:\n",
    "        buffer = mic.record(numframes=chuncksize).mean(axis=1)\n",
    "        callback(buffer, 0, 0, 'e')"
   ]
  },
  {
   "cell_type": "code",
   "execution_count": null,
   "metadata": {},
   "outputs": [],
   "source": []
  }
 ],
 "metadata": {
  "kernelspec": {
   "display_name": "py3.7_estf",
   "language": "python",
   "name": "py3.7_estf"
  },
  "language_info": {
   "codemirror_mode": {
    "name": "ipython",
    "version": 3
   },
   "file_extension": ".py",
   "mimetype": "text/x-python",
   "name": "python",
   "nbconvert_exporter": "python",
   "pygments_lexer": "ipython3",
   "version": "3.7.3"
  }
 },
 "nbformat": 4,
 "nbformat_minor": 2
}
